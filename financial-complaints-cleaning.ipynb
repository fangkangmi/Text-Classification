{
 "cells": [
  {
   "cell_type": "code",
   "execution_count": 1,
   "metadata": {
    "_cell_guid": "b1076dfc-b9ad-4769-8c92-a6c4dae69d19",
    "_uuid": "8f2839f25d086af736a60e9eeb907d3b93b6e0e5",
    "execution": {
     "iopub.execute_input": "2023-06-02T12:18:23.368625Z",
     "iopub.status.busy": "2023-06-02T12:18:23.368196Z",
     "iopub.status.idle": "2023-06-02T12:18:26.531951Z",
     "shell.execute_reply": "2023-06-02T12:18:26.530663Z",
     "shell.execute_reply.started": "2023-06-02T12:18:23.368595Z"
    }
   },
   "outputs": [],
   "source": [
    "import numpy as np\n",
    "import pandas as pd\n",
    "import torch"
   ]
  },
  {
   "cell_type": "code",
   "execution_count": 2,
   "metadata": {
    "execution": {
     "iopub.execute_input": "2023-06-02T12:18:26.534883Z",
     "iopub.status.busy": "2023-06-02T12:18:26.534275Z",
     "iopub.status.idle": "2023-06-02T12:18:26.545368Z",
     "shell.execute_reply": "2023-06-02T12:18:26.544369Z",
     "shell.execute_reply.started": "2023-06-02T12:18:26.534849Z"
    }
   },
   "outputs": [],
   "source": [
    "import random\n",
    "\n",
    "# Set the seed value all over the place to make this reproducible.\n",
    "seed_val = 42\n",
    "\n",
    "random.seed(seed_val)\n",
    "np.random.seed(seed_val)\n",
    "torch.manual_seed(seed_val)\n",
    "torch.cuda.manual_seed_all(seed_val)"
   ]
  },
  {
   "cell_type": "code",
   "execution_count": 4,
   "metadata": {
    "execution": {
     "iopub.execute_input": "2023-06-02T12:18:26.547647Z",
     "iopub.status.busy": "2023-06-02T12:18:26.546596Z",
     "iopub.status.idle": "2023-06-02T12:18:32.672077Z",
     "shell.execute_reply": "2023-06-02T12:18:32.670923Z",
     "shell.execute_reply.started": "2023-06-02T12:18:26.547614Z"
    }
   },
   "outputs": [
    {
     "name": "stdout",
     "output_type": "stream",
     "text": [
      "(555957, 18)\n"
     ]
    },
    {
     "name": "stderr",
     "output_type": "stream",
     "text": [
      "/tmp/ipykernel_22612/3115789634.py:1: DtypeWarning: Columns (5,11) have mixed types. Specify dtype option on import or set low_memory=False.\n",
      "  data = pd.read_csv(\"consumer_complaints.csv\")\n"
     ]
    },
    {
     "data": {
      "text/html": [
       "<div>\n",
       "<style scoped>\n",
       "    .dataframe tbody tr th:only-of-type {\n",
       "        vertical-align: middle;\n",
       "    }\n",
       "\n",
       "    .dataframe tbody tr th {\n",
       "        vertical-align: top;\n",
       "    }\n",
       "\n",
       "    .dataframe thead th {\n",
       "        text-align: right;\n",
       "    }\n",
       "</style>\n",
       "<table border=\"1\" class=\"dataframe\">\n",
       "  <thead>\n",
       "    <tr style=\"text-align: right;\">\n",
       "      <th></th>\n",
       "      <th>date_received</th>\n",
       "      <th>product</th>\n",
       "      <th>sub_product</th>\n",
       "      <th>issue</th>\n",
       "      <th>sub_issue</th>\n",
       "      <th>consumer_complaint_narrative</th>\n",
       "      <th>company_public_response</th>\n",
       "      <th>company</th>\n",
       "      <th>state</th>\n",
       "      <th>zipcode</th>\n",
       "      <th>tags</th>\n",
       "      <th>consumer_consent_provided</th>\n",
       "      <th>submitted_via</th>\n",
       "      <th>date_sent_to_company</th>\n",
       "      <th>company_response_to_consumer</th>\n",
       "      <th>timely_response</th>\n",
       "      <th>consumer_disputed?</th>\n",
       "      <th>complaint_id</th>\n",
       "    </tr>\n",
       "  </thead>\n",
       "  <tbody>\n",
       "    <tr>\n",
       "      <th>0</th>\n",
       "      <td>08/30/2013</td>\n",
       "      <td>Mortgage</td>\n",
       "      <td>Other mortgage</td>\n",
       "      <td>Loan modification,collection,foreclosure</td>\n",
       "      <td>NaN</td>\n",
       "      <td>NaN</td>\n",
       "      <td>NaN</td>\n",
       "      <td>U.S. Bancorp</td>\n",
       "      <td>CA</td>\n",
       "      <td>95993</td>\n",
       "      <td>NaN</td>\n",
       "      <td>NaN</td>\n",
       "      <td>Referral</td>\n",
       "      <td>09/03/2013</td>\n",
       "      <td>Closed with explanation</td>\n",
       "      <td>Yes</td>\n",
       "      <td>Yes</td>\n",
       "      <td>511074</td>\n",
       "    </tr>\n",
       "    <tr>\n",
       "      <th>1</th>\n",
       "      <td>08/30/2013</td>\n",
       "      <td>Mortgage</td>\n",
       "      <td>Other mortgage</td>\n",
       "      <td>Loan servicing, payments, escrow account</td>\n",
       "      <td>NaN</td>\n",
       "      <td>NaN</td>\n",
       "      <td>NaN</td>\n",
       "      <td>Wells Fargo &amp; Company</td>\n",
       "      <td>CA</td>\n",
       "      <td>91104</td>\n",
       "      <td>NaN</td>\n",
       "      <td>NaN</td>\n",
       "      <td>Referral</td>\n",
       "      <td>09/03/2013</td>\n",
       "      <td>Closed with explanation</td>\n",
       "      <td>Yes</td>\n",
       "      <td>Yes</td>\n",
       "      <td>511080</td>\n",
       "    </tr>\n",
       "    <tr>\n",
       "      <th>2</th>\n",
       "      <td>08/30/2013</td>\n",
       "      <td>Credit reporting</td>\n",
       "      <td>NaN</td>\n",
       "      <td>Incorrect information on credit report</td>\n",
       "      <td>Account status</td>\n",
       "      <td>NaN</td>\n",
       "      <td>NaN</td>\n",
       "      <td>Wells Fargo &amp; Company</td>\n",
       "      <td>NY</td>\n",
       "      <td>11764</td>\n",
       "      <td>NaN</td>\n",
       "      <td>NaN</td>\n",
       "      <td>Postal mail</td>\n",
       "      <td>09/18/2013</td>\n",
       "      <td>Closed with explanation</td>\n",
       "      <td>Yes</td>\n",
       "      <td>No</td>\n",
       "      <td>510473</td>\n",
       "    </tr>\n",
       "    <tr>\n",
       "      <th>3</th>\n",
       "      <td>08/30/2013</td>\n",
       "      <td>Student loan</td>\n",
       "      <td>Non-federal student loan</td>\n",
       "      <td>Repaying your loan</td>\n",
       "      <td>Repaying your loan</td>\n",
       "      <td>NaN</td>\n",
       "      <td>NaN</td>\n",
       "      <td>Navient Solutions, Inc.</td>\n",
       "      <td>MD</td>\n",
       "      <td>21402</td>\n",
       "      <td>NaN</td>\n",
       "      <td>NaN</td>\n",
       "      <td>Email</td>\n",
       "      <td>08/30/2013</td>\n",
       "      <td>Closed with explanation</td>\n",
       "      <td>Yes</td>\n",
       "      <td>Yes</td>\n",
       "      <td>510326</td>\n",
       "    </tr>\n",
       "    <tr>\n",
       "      <th>4</th>\n",
       "      <td>08/30/2013</td>\n",
       "      <td>Debt collection</td>\n",
       "      <td>Credit card</td>\n",
       "      <td>False statements or representation</td>\n",
       "      <td>Attempted to collect wrong amount</td>\n",
       "      <td>NaN</td>\n",
       "      <td>NaN</td>\n",
       "      <td>Resurgent Capital Services L.P.</td>\n",
       "      <td>GA</td>\n",
       "      <td>30106</td>\n",
       "      <td>NaN</td>\n",
       "      <td>NaN</td>\n",
       "      <td>Web</td>\n",
       "      <td>08/30/2013</td>\n",
       "      <td>Closed with explanation</td>\n",
       "      <td>Yes</td>\n",
       "      <td>Yes</td>\n",
       "      <td>511067</td>\n",
       "    </tr>\n",
       "  </tbody>\n",
       "</table>\n",
       "</div>"
      ],
      "text/plain": [
       "  date_received           product               sub_product  \\\n",
       "0    08/30/2013          Mortgage            Other mortgage   \n",
       "1    08/30/2013          Mortgage            Other mortgage   \n",
       "2    08/30/2013  Credit reporting                       NaN   \n",
       "3    08/30/2013      Student loan  Non-federal student loan   \n",
       "4    08/30/2013   Debt collection               Credit card   \n",
       "\n",
       "                                      issue  \\\n",
       "0  Loan modification,collection,foreclosure   \n",
       "1  Loan servicing, payments, escrow account   \n",
       "2    Incorrect information on credit report   \n",
       "3                        Repaying your loan   \n",
       "4        False statements or representation   \n",
       "\n",
       "                           sub_issue consumer_complaint_narrative  \\\n",
       "0                                NaN                          NaN   \n",
       "1                                NaN                          NaN   \n",
       "2                     Account status                          NaN   \n",
       "3                 Repaying your loan                          NaN   \n",
       "4  Attempted to collect wrong amount                          NaN   \n",
       "\n",
       "  company_public_response                          company state zipcode tags  \\\n",
       "0                     NaN                     U.S. Bancorp    CA   95993  NaN   \n",
       "1                     NaN            Wells Fargo & Company    CA   91104  NaN   \n",
       "2                     NaN            Wells Fargo & Company    NY   11764  NaN   \n",
       "3                     NaN          Navient Solutions, Inc.    MD   21402  NaN   \n",
       "4                     NaN  Resurgent Capital Services L.P.    GA   30106  NaN   \n",
       "\n",
       "  consumer_consent_provided submitted_via date_sent_to_company  \\\n",
       "0                       NaN      Referral           09/03/2013   \n",
       "1                       NaN      Referral           09/03/2013   \n",
       "2                       NaN   Postal mail           09/18/2013   \n",
       "3                       NaN         Email           08/30/2013   \n",
       "4                       NaN           Web           08/30/2013   \n",
       "\n",
       "  company_response_to_consumer timely_response consumer_disputed?  \\\n",
       "0      Closed with explanation             Yes                Yes   \n",
       "1      Closed with explanation             Yes                Yes   \n",
       "2      Closed with explanation             Yes                 No   \n",
       "3      Closed with explanation             Yes                Yes   \n",
       "4      Closed with explanation             Yes                Yes   \n",
       "\n",
       "   complaint_id  \n",
       "0        511074  \n",
       "1        511080  \n",
       "2        510473  \n",
       "3        510326  \n",
       "4        511067  "
      ]
     },
     "execution_count": 4,
     "metadata": {},
     "output_type": "execute_result"
    }
   ],
   "source": [
    "data = pd.read_csv(\"consumer_complaints.csv\")\n",
    "\n",
    "print(data.shape)\n",
    "data.head()"
   ]
  },
  {
   "cell_type": "code",
   "execution_count": null,
   "metadata": {
    "execution": {
     "iopub.execute_input": "2023-06-02T12:18:32.675215Z",
     "iopub.status.busy": "2023-06-02T12:18:32.674386Z",
     "iopub.status.idle": "2023-06-02T12:18:33.065326Z",
     "shell.execute_reply": "2023-06-02T12:18:33.064188Z",
     "shell.execute_reply.started": "2023-06-02T12:18:32.675183Z"
    }
   },
   "outputs": [],
   "source": [
    "data.dropna(subset=[\"consumer_complaint_narrative\", \"product\"], inplace=True)\n",
    "data.head()"
   ]
  },
  {
   "cell_type": "code",
   "execution_count": null,
   "metadata": {
    "execution": {
     "iopub.execute_input": "2023-06-02T12:18:39.118810Z",
     "iopub.status.busy": "2023-06-02T12:18:39.118399Z",
     "iopub.status.idle": "2023-06-02T12:18:41.400475Z",
     "shell.execute_reply": "2023-06-02T12:18:41.399413Z",
     "shell.execute_reply.started": "2023-06-02T12:18:39.118776Z"
    }
   },
   "outputs": [],
   "source": [
    "data['word_count'] = data['consumer_complaint_narrative'].str.split().str.len()\n",
    "data = data[data['word_count'] >= 250][[\"product\", \"consumer_complaint_narrative\"]]\n",
    "\n",
    "print(data.shape)\n",
    "data.head()"
   ]
  },
  {
   "cell_type": "code",
   "execution_count": null,
   "metadata": {
    "execution": {
     "iopub.execute_input": "2023-06-02T12:19:13.812462Z",
     "iopub.status.busy": "2023-06-02T12:19:13.812051Z",
     "iopub.status.idle": "2023-06-02T12:19:13.828723Z",
     "shell.execute_reply": "2023-06-02T12:19:13.827441Z",
     "shell.execute_reply.started": "2023-06-02T12:19:13.812428Z"
    }
   },
   "outputs": [],
   "source": [
    "data[\"product\"].value_counts()"
   ]
  },
  {
   "cell_type": "code",
   "execution_count": null,
   "metadata": {
    "execution": {
     "iopub.execute_input": "2023-06-02T12:19:49.164609Z",
     "iopub.status.busy": "2023-06-02T12:19:49.164162Z",
     "iopub.status.idle": "2023-06-02T12:19:49.174085Z",
     "shell.execute_reply": "2023-06-02T12:19:49.172832Z",
     "shell.execute_reply.started": "2023-06-02T12:19:49.164576Z"
    }
   },
   "outputs": [],
   "source": [
    "data = data[~data[\"product\"].isin([\"Other financial service\"])]"
   ]
  },
  {
   "cell_type": "code",
   "execution_count": null,
   "metadata": {
    "execution": {
     "iopub.execute_input": "2023-06-02T12:19:51.029914Z",
     "iopub.status.busy": "2023-06-02T12:19:51.029521Z",
     "iopub.status.idle": "2023-06-02T12:19:51.043400Z",
     "shell.execute_reply": "2023-06-02T12:19:51.042223Z",
     "shell.execute_reply.started": "2023-06-02T12:19:51.029876Z"
    }
   },
   "outputs": [],
   "source": [
    "num_labels = len(data[\"product\"].unique())\n",
    "print(\"num labels: \", num_labels)\n",
    "genre2id = {genre: i for i, genre in enumerate(data[\"product\"].unique())}\n",
    "id2genre = {i: genre for i, genre in enumerate(data[\"product\"].unique())}"
   ]
  },
  {
   "cell_type": "code",
   "execution_count": null,
   "metadata": {
    "execution": {
     "iopub.execute_input": "2023-06-02T12:20:05.307485Z",
     "iopub.status.busy": "2023-06-02T12:20:05.306702Z",
     "iopub.status.idle": "2023-06-02T12:20:05.328772Z",
     "shell.execute_reply": "2023-06-02T12:20:05.327521Z",
     "shell.execute_reply.started": "2023-06-02T12:20:05.307449Z"
    }
   },
   "outputs": [],
   "source": [
    "data[\"genre_id\"] = data[\"product\"].apply(lambda a: genre2id[a])"
   ]
  },
  {
   "cell_type": "code",
   "execution_count": null,
   "metadata": {
    "execution": {
     "iopub.execute_input": "2023-06-02T12:23:50.807374Z",
     "iopub.status.busy": "2023-06-02T12:23:50.806966Z",
     "iopub.status.idle": "2023-06-02T12:23:50.815167Z",
     "shell.execute_reply": "2023-06-02T12:23:50.814106Z",
     "shell.execute_reply.started": "2023-06-02T12:23:50.807343Z"
    }
   },
   "outputs": [],
   "source": [
    "import re\n",
    "\n",
    "def clean_text(text):\n",
    "    text = re.sub('[^a-zA-Z0-9\\.\\,\\?\\!]', ' ', str(text).lower()) # remove all except lowercase, uppercase, digits, punctuation\n",
    "    text = re.sub('\\[.*?\\]', '', text) # remove any text in square brackets\n",
    "    text = re.sub('https?://\\S+|www\\.\\S+', '', text) # remove any links present \n",
    "    text = re.sub('\\n', ' ', text) # remove the next line character\n",
    "    text = re.sub('\\w*\\d\\w*', '', text) # remove the words contaitning numbers\n",
    "    text = re.sub('\\s+', ' ', text) # remove extra spaces\n",
    "    text = re.sub('x{2,}', '', text) # remove multiple x's\n",
    "    \n",
    "    return text"
   ]
  },
  {
   "cell_type": "code",
   "execution_count": null,
   "metadata": {
    "execution": {
     "iopub.execute_input": "2023-06-02T12:23:52.233668Z",
     "iopub.status.busy": "2023-06-02T12:23:52.233160Z",
     "iopub.status.idle": "2023-06-02T12:24:10.602965Z",
     "shell.execute_reply": "2023-06-02T12:24:10.601849Z",
     "shell.execute_reply.started": "2023-06-02T12:23:52.233633Z"
    }
   },
   "outputs": [],
   "source": [
    "data['consumer_complaint_narrative'] = data['consumer_complaint_narrative'].apply(clean_text)\n",
    "data.head()"
   ]
  },
  {
   "cell_type": "code",
   "execution_count": null,
   "metadata": {
    "execution": {
     "iopub.execute_input": "2023-06-02T12:25:00.740287Z",
     "iopub.status.busy": "2023-06-02T12:25:00.739861Z",
     "iopub.status.idle": "2023-06-02T12:25:00.758650Z",
     "shell.execute_reply": "2023-06-02T12:25:00.757716Z",
     "shell.execute_reply.started": "2023-06-02T12:25:00.740254Z"
    }
   },
   "outputs": [],
   "source": [
    "mortgage = data[data[\"genre_id\"] == 0]\n",
    "credit_card = data[data[\"genre_id\"] == 1]\n",
    "consumer_loan = data[data[\"genre_id\"] == 2]\n",
    "debt_collection = data[data[\"genre_id\"] == 3]\n",
    "credit_reporting = data[data[\"genre_id\"] == 4]\n",
    "student_loan = data[data[\"genre_id\"] == 5]\n",
    "bank_account = data[data[\"genre_id\"] == 6]\n",
    "money_transfers = data[data[\"genre_id\"] == 7]\n",
    "payday_loan = data[data[\"genre_id\"] == 8]\n",
    "prepaid_card = data[data[\"genre_id\"] == 9]"
   ]
  },
  {
   "cell_type": "code",
   "execution_count": null,
   "metadata": {
    "execution": {
     "iopub.execute_input": "2023-06-02T12:25:10.933485Z",
     "iopub.status.busy": "2023-06-02T12:25:10.933092Z",
     "iopub.status.idle": "2023-06-02T12:25:11.690449Z",
     "shell.execute_reply": "2023-06-02T12:25:11.689249Z",
     "shell.execute_reply.started": "2023-06-02T12:25:10.933442Z"
    }
   },
   "outputs": [],
   "source": [
    "from sklearn.utils import resample\n",
    "\n",
    "mortgage_downsample = resample(mortgage,\n",
    "                              replace=False,\n",
    "                              n_samples=600,\n",
    "                              random_state=42)\n",
    "\n",
    "credit_card_downsample = resample(credit_card,\n",
    "                              replace=False,\n",
    "                              n_samples=600,\n",
    "                              random_state=42)\n",
    "\n",
    "consumer_loan_downsample = resample(consumer_loan,\n",
    "                              replace=False,\n",
    "                              n_samples=600,\n",
    "                              random_state=42)\n",
    "\n",
    "debt_collection_downsample = resample(debt_collection,\n",
    "                              replace=False,\n",
    "                              n_samples=600,\n",
    "                              random_state=42)\n",
    "\n",
    "credit_reporting_downsample = resample(credit_reporting,\n",
    "                              replace=False,\n",
    "                              n_samples=600,\n",
    "                              random_state=42)\n",
    "\n",
    "student_loan_downsample = resample(student_loan,\n",
    "                              replace=False,\n",
    "                              n_samples=500,\n",
    "                              random_state=42)\n",
    "\n",
    "bank_account_downsample = resample(bank_account,\n",
    "                              replace=False,\n",
    "                              n_samples=600,\n",
    "                              random_state=42)\n",
    "\n",
    "money_transfers_downsample = resample(money_transfers,\n",
    "                              replace=False,\n",
    "                              n_samples=160,\n",
    "                              random_state=42)\n",
    "\n",
    "payday_loan_downsample = resample(payday_loan,\n",
    "                              replace=False,\n",
    "                              n_samples=80,\n",
    "                              random_state=42)\n",
    "\n",
    "prepaid_card_downsample = resample(prepaid_card,\n",
    "                              replace=False,\n",
    "                              n_samples=130,\n",
    "                              random_state=42)"
   ]
  },
  {
   "cell_type": "code",
   "execution_count": null,
   "metadata": {
    "execution": {
     "iopub.execute_input": "2023-06-02T12:25:19.532935Z",
     "iopub.status.busy": "2023-06-02T12:25:19.532127Z",
     "iopub.status.idle": "2023-06-02T12:25:19.540155Z",
     "shell.execute_reply": "2023-06-02T12:25:19.539098Z",
     "shell.execute_reply.started": "2023-06-02T12:25:19.532895Z"
    }
   },
   "outputs": [],
   "source": [
    "train = pd.concat([mortgage_downsample, credit_card_downsample, consumer_loan_downsample, debt_collection_downsample, credit_reporting_downsample, student_loan_downsample, bank_account_downsample, money_transfers_downsample, payday_loan_downsample, prepaid_card_downsample])"
   ]
  },
  {
   "cell_type": "code",
   "execution_count": null,
   "metadata": {
    "execution": {
     "iopub.execute_input": "2023-06-02T12:25:26.741105Z",
     "iopub.status.busy": "2023-06-02T12:25:26.740699Z",
     "iopub.status.idle": "2023-06-02T12:25:26.751476Z",
     "shell.execute_reply": "2023-06-02T12:25:26.750276Z",
     "shell.execute_reply.started": "2023-06-02T12:25:26.741075Z"
    }
   },
   "outputs": [],
   "source": [
    "train[\"product\"].value_counts()"
   ]
  },
  {
   "cell_type": "code",
   "execution_count": null,
   "metadata": {
    "execution": {
     "iopub.execute_input": "2023-06-02T12:25:34.245345Z",
     "iopub.status.busy": "2023-06-02T12:25:34.244926Z",
     "iopub.status.idle": "2023-06-02T12:25:34.252812Z",
     "shell.execute_reply": "2023-06-02T12:25:34.251481Z",
     "shell.execute_reply.started": "2023-06-02T12:25:34.245316Z"
    }
   },
   "outputs": [],
   "source": [
    "test = data.loc[~data.index.isin(train.index)]"
   ]
  },
  {
   "cell_type": "code",
   "execution_count": null,
   "metadata": {
    "execution": {
     "iopub.execute_input": "2023-06-02T12:25:41.451378Z",
     "iopub.status.busy": "2023-06-02T12:25:41.450950Z",
     "iopub.status.idle": "2023-06-02T12:25:41.463231Z",
     "shell.execute_reply": "2023-06-02T12:25:41.462315Z",
     "shell.execute_reply.started": "2023-06-02T12:25:41.451346Z"
    }
   },
   "outputs": [],
   "source": [
    "test[\"product\"].value_counts()"
   ]
  },
  {
   "cell_type": "code",
   "execution_count": null,
   "metadata": {
    "execution": {
     "iopub.execute_input": "2023-06-02T12:25:49.535050Z",
     "iopub.status.busy": "2023-06-02T12:25:49.534617Z",
     "iopub.status.idle": "2023-06-02T12:25:49.542420Z",
     "shell.execute_reply": "2023-06-02T12:25:49.541421Z",
     "shell.execute_reply.started": "2023-06-02T12:25:49.534999Z"
    }
   },
   "outputs": [],
   "source": [
    "# If there's a GPU available...\n",
    "if torch.cuda.is_available():    \n",
    "    # Tell PyTorch to use the GPU.    \n",
    "    device = torch.device(\"cuda\")\n",
    "    print('There are %d GPU(s) available.' % torch.cuda.device_count())\n",
    "    print('We will use the GPU:', torch.cuda.get_device_name(0))\n",
    "# If not...\n",
    "else:\n",
    "    print('No GPU available, using the CPU instead.')\n",
    "    device = torch.device(\"cpu\")"
   ]
  },
  {
   "cell_type": "code",
   "execution_count": null,
   "metadata": {},
   "outputs": [],
   "source": []
  }
 ],
 "metadata": {
  "kernelspec": {
   "display_name": "Python 3 (ipykernel)",
   "language": "python",
   "name": "python3"
  },
  "language_info": {
   "codemirror_mode": {
    "name": "ipython",
    "version": 3
   },
   "file_extension": ".py",
   "mimetype": "text/x-python",
   "name": "python",
   "nbconvert_exporter": "python",
   "pygments_lexer": "ipython3",
   "version": "3.9.16"
  }
 },
 "nbformat": 4,
 "nbformat_minor": 4
}
